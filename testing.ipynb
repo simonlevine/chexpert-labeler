{
 "metadata": {
  "language_info": {
   "codemirror_mode": {
    "name": "ipython",
    "version": 3
   },
   "file_extension": ".py",
   "mimetype": "text/x-python",
   "name": "python",
   "nbconvert_exporter": "python",
   "pygments_lexer": "ipython3",
   "version": "3.8.3-final"
  },
  "orig_nbformat": 2,
  "kernelspec": {
   "name": "python38364bitptxmlctransformerconda0119e8859be74bcf97d8300e76407f85",
   "display_name": "Python 3.8.3 64-bit ('pt_xmlc_transformer': conda)",
   "language": "python"
  }
 },
 "nbformat": 4,
 "nbformat_minor": 2,
 "cells": [
  {
   "cell_type": "code",
   "execution_count": 1,
   "metadata": {},
   "outputs": [
    {
     "output_type": "execute_result",
     "data": {
      "text/plain": [
       "        subject_id  study_id                           txt_path  \\\n",
       "0         10000032  50414267  files/p10/p10000032/s50414267.txt   \n",
       "1         10000032  53189527  files/p10/p10000032/s53189527.txt   \n",
       "2         10000032  53911762  files/p10/p10000032/s53911762.txt   \n",
       "3         10000032  56699142  files/p10/p10000032/s56699142.txt   \n",
       "4         10000764  57375967  files/p10/p10000764/s57375967.txt   \n",
       "...            ...       ...                                ...   \n",
       "227830    19999442  58708861  files/p19/p19999442/s58708861.txt   \n",
       "227831    19999733  57132437  files/p19/p19999733/s57132437.txt   \n",
       "227832    19999987  55368167  files/p19/p19999987/s55368167.txt   \n",
       "227833    19999987  58621812  files/p19/p19999987/s58621812.txt   \n",
       "227834    19999987  58971208  files/p19/p19999987/s58971208.txt   \n",
       "\n",
       "                                                     text  \n",
       "0                                        FINAL REPORT\\...  \n",
       "1                                        FINAL REPORT\\...  \n",
       "2                                        FINAL REPORT\\...  \n",
       "3                                        FINAL REPORT\\...  \n",
       "4                                        FINAL REPORT\\...  \n",
       "...                                                   ...  \n",
       "227830                                   FINAL REPORT\\...  \n",
       "227831                                   FINAL REPORT\\...  \n",
       "227832                                   FINAL REPORT\\...  \n",
       "227833                                   FINAL REPORT\\...  \n",
       "227834                                   FINAL REPORT\\...  \n",
       "\n",
       "[227835 rows x 4 columns]"
      ],
      "text/html": "<div>\n<style scoped>\n    .dataframe tbody tr th:only-of-type {\n        vertical-align: middle;\n    }\n\n    .dataframe tbody tr th {\n        vertical-align: top;\n    }\n\n    .dataframe thead th {\n        text-align: right;\n    }\n</style>\n<table border=\"1\" class=\"dataframe\">\n  <thead>\n    <tr style=\"text-align: right;\">\n      <th></th>\n      <th>subject_id</th>\n      <th>study_id</th>\n      <th>txt_path</th>\n      <th>text</th>\n    </tr>\n  </thead>\n  <tbody>\n    <tr>\n      <th>0</th>\n      <td>10000032</td>\n      <td>50414267</td>\n      <td>files/p10/p10000032/s50414267.txt</td>\n      <td>FINAL REPORT\\...</td>\n    </tr>\n    <tr>\n      <th>1</th>\n      <td>10000032</td>\n      <td>53189527</td>\n      <td>files/p10/p10000032/s53189527.txt</td>\n      <td>FINAL REPORT\\...</td>\n    </tr>\n    <tr>\n      <th>2</th>\n      <td>10000032</td>\n      <td>53911762</td>\n      <td>files/p10/p10000032/s53911762.txt</td>\n      <td>FINAL REPORT\\...</td>\n    </tr>\n    <tr>\n      <th>3</th>\n      <td>10000032</td>\n      <td>56699142</td>\n      <td>files/p10/p10000032/s56699142.txt</td>\n      <td>FINAL REPORT\\...</td>\n    </tr>\n    <tr>\n      <th>4</th>\n      <td>10000764</td>\n      <td>57375967</td>\n      <td>files/p10/p10000764/s57375967.txt</td>\n      <td>FINAL REPORT\\...</td>\n    </tr>\n    <tr>\n      <th>...</th>\n      <td>...</td>\n      <td>...</td>\n      <td>...</td>\n      <td>...</td>\n    </tr>\n    <tr>\n      <th>227830</th>\n      <td>19999442</td>\n      <td>58708861</td>\n      <td>files/p19/p19999442/s58708861.txt</td>\n      <td>FINAL REPORT\\...</td>\n    </tr>\n    <tr>\n      <th>227831</th>\n      <td>19999733</td>\n      <td>57132437</td>\n      <td>files/p19/p19999733/s57132437.txt</td>\n      <td>FINAL REPORT\\...</td>\n    </tr>\n    <tr>\n      <th>227832</th>\n      <td>19999987</td>\n      <td>55368167</td>\n      <td>files/p19/p19999987/s55368167.txt</td>\n      <td>FINAL REPORT\\...</td>\n    </tr>\n    <tr>\n      <th>227833</th>\n      <td>19999987</td>\n      <td>58621812</td>\n      <td>files/p19/p19999987/s58621812.txt</td>\n      <td>FINAL REPORT\\...</td>\n    </tr>\n    <tr>\n      <th>227834</th>\n      <td>19999987</td>\n      <td>58971208</td>\n      <td>files/p19/p19999987/s58971208.txt</td>\n      <td>FINAL REPORT\\...</td>\n    </tr>\n  </tbody>\n</table>\n<p>227835 rows × 4 columns</p>\n</div>"
     },
     "metadata": {},
     "execution_count": 1
    }
   ],
   "source": [
    "import pandas as pd\n",
    "\n",
    "pd.read_pickle('mimiccxr_studies_text')"
   ]
  },
  {
   "cell_type": "code",
   "execution_count": null,
   "metadata": {},
   "outputs": [],
   "source": []
  }
 ]
}