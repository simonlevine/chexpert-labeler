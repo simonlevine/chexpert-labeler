{
 "metadata": {
  "language_info": {
   "codemirror_mode": {
    "name": "ipython",
    "version": 3
   },
   "file_extension": ".py",
   "mimetype": "text/x-python",
   "name": "python",
   "nbconvert_exporter": "python",
   "pygments_lexer": "ipython3",
   "version": "3.8.1-final"
  },
  "orig_nbformat": 2,
  "kernelspec": {
   "name": "python38164bit7f38ed5532dc4b83b9571ffd2a5a03da",
   "display_name": "Python 3.8.1 64-bit"
  }
 },
 "nbformat": 4,
 "nbformat_minor": 2,
 "cells": [
  {
   "cell_type": "code",
   "execution_count": 2,
   "metadata": {},
   "outputs": [
    {
     "output_type": "error",
     "ename": "FileNotFoundError",
     "evalue": "[Errno 2] No such file or directory: 'mimiccxr_files/cxr-study-list.csv.gz'",
     "traceback": [
      "\u001b[0;31m---------------------------------------------------------------------------\u001b[0m",
      "\u001b[0;31mFileNotFoundError\u001b[0m                         Traceback (most recent call last)",
      "\u001b[0;32m<ipython-input-2-02a2451265e8>\u001b[0m in \u001b[0;36m<module>\u001b[0;34m\u001b[0m\n\u001b[1;32m      1\u001b[0m \u001b[0;32mimport\u001b[0m \u001b[0mpandas\u001b[0m \u001b[0;32mas\u001b[0m \u001b[0mpd\u001b[0m\u001b[0;34m\u001b[0m\u001b[0;34m\u001b[0m\u001b[0m\n\u001b[1;32m      2\u001b[0m \u001b[0;34m\u001b[0m\u001b[0m\n\u001b[0;32m----> 3\u001b[0;31m \u001b[0mcxr_studies\u001b[0m \u001b[0;34m=\u001b[0m \u001b[0mpd\u001b[0m\u001b[0;34m.\u001b[0m\u001b[0mread_csv\u001b[0m\u001b[0;34m(\u001b[0m\u001b[0;34m'mimiccxr_files/cxr-study-list.csv.gz'\u001b[0m\u001b[0;34m,\u001b[0m \u001b[0mcompression\u001b[0m\u001b[0;34m=\u001b[0m\u001b[0;34m'gzip'\u001b[0m\u001b[0;34m)\u001b[0m\u001b[0;34m.\u001b[0m\u001b[0mrename\u001b[0m\u001b[0;34m(\u001b[0m\u001b[0mcolumns\u001b[0m \u001b[0;34m=\u001b[0m \u001b[0;34m{\u001b[0m\u001b[0;34m'path'\u001b[0m\u001b[0;34m:\u001b[0m\u001b[0;34m'txt_path'\u001b[0m\u001b[0;34m}\u001b[0m\u001b[0;34m)\u001b[0m\u001b[0;34m\u001b[0m\u001b[0;34m\u001b[0m\u001b[0m\n\u001b[0m\u001b[1;32m      4\u001b[0m \u001b[0mcxr_studies\u001b[0m\u001b[0;34m.\u001b[0m\u001b[0mhead\u001b[0m\u001b[0;34m(\u001b[0m\u001b[0;34m)\u001b[0m\u001b[0;34m\u001b[0m\u001b[0;34m\u001b[0m\u001b[0m\n",
      "\u001b[0;32m/Library/Frameworks/Python.framework/Versions/3.8/lib/python3.8/site-packages/pandas/io/parsers.py\u001b[0m in \u001b[0;36mparser_f\u001b[0;34m(filepath_or_buffer, sep, delimiter, header, names, index_col, usecols, squeeze, prefix, mangle_dupe_cols, dtype, engine, converters, true_values, false_values, skipinitialspace, skiprows, skipfooter, nrows, na_values, keep_default_na, na_filter, verbose, skip_blank_lines, parse_dates, infer_datetime_format, keep_date_col, date_parser, dayfirst, cache_dates, iterator, chunksize, compression, thousands, decimal, lineterminator, quotechar, quoting, doublequote, escapechar, comment, encoding, dialect, error_bad_lines, warn_bad_lines, delim_whitespace, low_memory, memory_map, float_precision)\u001b[0m\n\u001b[1;32m    674\u001b[0m         )\n\u001b[1;32m    675\u001b[0m \u001b[0;34m\u001b[0m\u001b[0m\n\u001b[0;32m--> 676\u001b[0;31m         \u001b[0;32mreturn\u001b[0m \u001b[0m_read\u001b[0m\u001b[0;34m(\u001b[0m\u001b[0mfilepath_or_buffer\u001b[0m\u001b[0;34m,\u001b[0m \u001b[0mkwds\u001b[0m\u001b[0;34m)\u001b[0m\u001b[0;34m\u001b[0m\u001b[0;34m\u001b[0m\u001b[0m\n\u001b[0m\u001b[1;32m    677\u001b[0m \u001b[0;34m\u001b[0m\u001b[0m\n\u001b[1;32m    678\u001b[0m     \u001b[0mparser_f\u001b[0m\u001b[0;34m.\u001b[0m\u001b[0m__name__\u001b[0m \u001b[0;34m=\u001b[0m \u001b[0mname\u001b[0m\u001b[0;34m\u001b[0m\u001b[0;34m\u001b[0m\u001b[0m\n",
      "\u001b[0;32m/Library/Frameworks/Python.framework/Versions/3.8/lib/python3.8/site-packages/pandas/io/parsers.py\u001b[0m in \u001b[0;36m_read\u001b[0;34m(filepath_or_buffer, kwds)\u001b[0m\n\u001b[1;32m    446\u001b[0m \u001b[0;34m\u001b[0m\u001b[0m\n\u001b[1;32m    447\u001b[0m     \u001b[0;31m# Create the parser.\u001b[0m\u001b[0;34m\u001b[0m\u001b[0;34m\u001b[0m\u001b[0;34m\u001b[0m\u001b[0m\n\u001b[0;32m--> 448\u001b[0;31m     \u001b[0mparser\u001b[0m \u001b[0;34m=\u001b[0m \u001b[0mTextFileReader\u001b[0m\u001b[0;34m(\u001b[0m\u001b[0mfp_or_buf\u001b[0m\u001b[0;34m,\u001b[0m \u001b[0;34m**\u001b[0m\u001b[0mkwds\u001b[0m\u001b[0;34m)\u001b[0m\u001b[0;34m\u001b[0m\u001b[0;34m\u001b[0m\u001b[0m\n\u001b[0m\u001b[1;32m    449\u001b[0m \u001b[0;34m\u001b[0m\u001b[0m\n\u001b[1;32m    450\u001b[0m     \u001b[0;32mif\u001b[0m \u001b[0mchunksize\u001b[0m \u001b[0;32mor\u001b[0m \u001b[0miterator\u001b[0m\u001b[0;34m:\u001b[0m\u001b[0;34m\u001b[0m\u001b[0;34m\u001b[0m\u001b[0m\n",
      "\u001b[0;32m/Library/Frameworks/Python.framework/Versions/3.8/lib/python3.8/site-packages/pandas/io/parsers.py\u001b[0m in \u001b[0;36m__init__\u001b[0;34m(self, f, engine, **kwds)\u001b[0m\n\u001b[1;32m    878\u001b[0m             \u001b[0mself\u001b[0m\u001b[0;34m.\u001b[0m\u001b[0moptions\u001b[0m\u001b[0;34m[\u001b[0m\u001b[0;34m\"has_index_names\"\u001b[0m\u001b[0;34m]\u001b[0m \u001b[0;34m=\u001b[0m \u001b[0mkwds\u001b[0m\u001b[0;34m[\u001b[0m\u001b[0;34m\"has_index_names\"\u001b[0m\u001b[0;34m]\u001b[0m\u001b[0;34m\u001b[0m\u001b[0;34m\u001b[0m\u001b[0m\n\u001b[1;32m    879\u001b[0m \u001b[0;34m\u001b[0m\u001b[0m\n\u001b[0;32m--> 880\u001b[0;31m         \u001b[0mself\u001b[0m\u001b[0;34m.\u001b[0m\u001b[0m_make_engine\u001b[0m\u001b[0;34m(\u001b[0m\u001b[0mself\u001b[0m\u001b[0;34m.\u001b[0m\u001b[0mengine\u001b[0m\u001b[0;34m)\u001b[0m\u001b[0;34m\u001b[0m\u001b[0;34m\u001b[0m\u001b[0m\n\u001b[0m\u001b[1;32m    881\u001b[0m \u001b[0;34m\u001b[0m\u001b[0m\n\u001b[1;32m    882\u001b[0m     \u001b[0;32mdef\u001b[0m \u001b[0mclose\u001b[0m\u001b[0;34m(\u001b[0m\u001b[0mself\u001b[0m\u001b[0;34m)\u001b[0m\u001b[0;34m:\u001b[0m\u001b[0;34m\u001b[0m\u001b[0;34m\u001b[0m\u001b[0m\n",
      "\u001b[0;32m/Library/Frameworks/Python.framework/Versions/3.8/lib/python3.8/site-packages/pandas/io/parsers.py\u001b[0m in \u001b[0;36m_make_engine\u001b[0;34m(self, engine)\u001b[0m\n\u001b[1;32m   1112\u001b[0m     \u001b[0;32mdef\u001b[0m \u001b[0m_make_engine\u001b[0m\u001b[0;34m(\u001b[0m\u001b[0mself\u001b[0m\u001b[0;34m,\u001b[0m \u001b[0mengine\u001b[0m\u001b[0;34m=\u001b[0m\u001b[0;34m\"c\"\u001b[0m\u001b[0;34m)\u001b[0m\u001b[0;34m:\u001b[0m\u001b[0;34m\u001b[0m\u001b[0;34m\u001b[0m\u001b[0m\n\u001b[1;32m   1113\u001b[0m         \u001b[0;32mif\u001b[0m \u001b[0mengine\u001b[0m \u001b[0;34m==\u001b[0m \u001b[0;34m\"c\"\u001b[0m\u001b[0;34m:\u001b[0m\u001b[0;34m\u001b[0m\u001b[0;34m\u001b[0m\u001b[0m\n\u001b[0;32m-> 1114\u001b[0;31m             \u001b[0mself\u001b[0m\u001b[0;34m.\u001b[0m\u001b[0m_engine\u001b[0m \u001b[0;34m=\u001b[0m \u001b[0mCParserWrapper\u001b[0m\u001b[0;34m(\u001b[0m\u001b[0mself\u001b[0m\u001b[0;34m.\u001b[0m\u001b[0mf\u001b[0m\u001b[0;34m,\u001b[0m \u001b[0;34m**\u001b[0m\u001b[0mself\u001b[0m\u001b[0;34m.\u001b[0m\u001b[0moptions\u001b[0m\u001b[0;34m)\u001b[0m\u001b[0;34m\u001b[0m\u001b[0;34m\u001b[0m\u001b[0m\n\u001b[0m\u001b[1;32m   1115\u001b[0m         \u001b[0;32melse\u001b[0m\u001b[0;34m:\u001b[0m\u001b[0;34m\u001b[0m\u001b[0;34m\u001b[0m\u001b[0m\n\u001b[1;32m   1116\u001b[0m             \u001b[0;32mif\u001b[0m \u001b[0mengine\u001b[0m \u001b[0;34m==\u001b[0m \u001b[0;34m\"python\"\u001b[0m\u001b[0;34m:\u001b[0m\u001b[0;34m\u001b[0m\u001b[0;34m\u001b[0m\u001b[0m\n",
      "\u001b[0;32m/Library/Frameworks/Python.framework/Versions/3.8/lib/python3.8/site-packages/pandas/io/parsers.py\u001b[0m in \u001b[0;36m__init__\u001b[0;34m(self, src, **kwds)\u001b[0m\n\u001b[1;32m   1889\u001b[0m         \u001b[0mkwds\u001b[0m\u001b[0;34m[\u001b[0m\u001b[0;34m\"usecols\"\u001b[0m\u001b[0;34m]\u001b[0m \u001b[0;34m=\u001b[0m \u001b[0mself\u001b[0m\u001b[0;34m.\u001b[0m\u001b[0musecols\u001b[0m\u001b[0;34m\u001b[0m\u001b[0;34m\u001b[0m\u001b[0m\n\u001b[1;32m   1890\u001b[0m \u001b[0;34m\u001b[0m\u001b[0m\n\u001b[0;32m-> 1891\u001b[0;31m         \u001b[0mself\u001b[0m\u001b[0;34m.\u001b[0m\u001b[0m_reader\u001b[0m \u001b[0;34m=\u001b[0m \u001b[0mparsers\u001b[0m\u001b[0;34m.\u001b[0m\u001b[0mTextReader\u001b[0m\u001b[0;34m(\u001b[0m\u001b[0msrc\u001b[0m\u001b[0;34m,\u001b[0m \u001b[0;34m**\u001b[0m\u001b[0mkwds\u001b[0m\u001b[0;34m)\u001b[0m\u001b[0;34m\u001b[0m\u001b[0;34m\u001b[0m\u001b[0m\n\u001b[0m\u001b[1;32m   1892\u001b[0m         \u001b[0mself\u001b[0m\u001b[0;34m.\u001b[0m\u001b[0munnamed_cols\u001b[0m \u001b[0;34m=\u001b[0m \u001b[0mself\u001b[0m\u001b[0;34m.\u001b[0m\u001b[0m_reader\u001b[0m\u001b[0;34m.\u001b[0m\u001b[0munnamed_cols\u001b[0m\u001b[0;34m\u001b[0m\u001b[0;34m\u001b[0m\u001b[0m\n\u001b[1;32m   1893\u001b[0m \u001b[0;34m\u001b[0m\u001b[0m\n",
      "\u001b[0;32mpandas/_libs/parsers.pyx\u001b[0m in \u001b[0;36mpandas._libs.parsers.TextReader.__cinit__\u001b[0;34m()\u001b[0m\n",
      "\u001b[0;32mpandas/_libs/parsers.pyx\u001b[0m in \u001b[0;36mpandas._libs.parsers.TextReader._setup_parser_source\u001b[0;34m()\u001b[0m\n",
      "\u001b[0;32m/Library/Frameworks/Python.framework/Versions/3.8/lib/python3.8/gzip.py\u001b[0m in \u001b[0;36m__init__\u001b[0;34m(self, filename, mode, compresslevel, fileobj, mtime)\u001b[0m\n\u001b[1;32m    171\u001b[0m             \u001b[0mmode\u001b[0m \u001b[0;34m+=\u001b[0m \u001b[0;34m'b'\u001b[0m\u001b[0;34m\u001b[0m\u001b[0;34m\u001b[0m\u001b[0m\n\u001b[1;32m    172\u001b[0m         \u001b[0;32mif\u001b[0m \u001b[0mfileobj\u001b[0m \u001b[0;32mis\u001b[0m \u001b[0;32mNone\u001b[0m\u001b[0;34m:\u001b[0m\u001b[0;34m\u001b[0m\u001b[0;34m\u001b[0m\u001b[0m\n\u001b[0;32m--> 173\u001b[0;31m             \u001b[0mfileobj\u001b[0m \u001b[0;34m=\u001b[0m \u001b[0mself\u001b[0m\u001b[0;34m.\u001b[0m\u001b[0mmyfileobj\u001b[0m \u001b[0;34m=\u001b[0m \u001b[0mbuiltins\u001b[0m\u001b[0;34m.\u001b[0m\u001b[0mopen\u001b[0m\u001b[0;34m(\u001b[0m\u001b[0mfilename\u001b[0m\u001b[0;34m,\u001b[0m \u001b[0mmode\u001b[0m \u001b[0;32mor\u001b[0m \u001b[0;34m'rb'\u001b[0m\u001b[0;34m)\u001b[0m\u001b[0;34m\u001b[0m\u001b[0;34m\u001b[0m\u001b[0m\n\u001b[0m\u001b[1;32m    174\u001b[0m         \u001b[0;32mif\u001b[0m \u001b[0mfilename\u001b[0m \u001b[0;32mis\u001b[0m \u001b[0;32mNone\u001b[0m\u001b[0;34m:\u001b[0m\u001b[0;34m\u001b[0m\u001b[0;34m\u001b[0m\u001b[0m\n\u001b[1;32m    175\u001b[0m             \u001b[0mfilename\u001b[0m \u001b[0;34m=\u001b[0m \u001b[0mgetattr\u001b[0m\u001b[0;34m(\u001b[0m\u001b[0mfileobj\u001b[0m\u001b[0;34m,\u001b[0m \u001b[0;34m'name'\u001b[0m\u001b[0;34m,\u001b[0m \u001b[0;34m''\u001b[0m\u001b[0;34m)\u001b[0m\u001b[0;34m\u001b[0m\u001b[0;34m\u001b[0m\u001b[0m\n",
      "\u001b[0;31mFileNotFoundError\u001b[0m: [Errno 2] No such file or directory: 'mimiccxr_files/cxr-study-list.csv.gz'"
     ]
    }
   ],
   "source": [
    "import pandas as pd\n",
    "\n",
    "cxr_studies = pd.read_csv('mimiccxr_files/cxr-study-list.csv.gz', compression='gzip').rename(columns = {'path':'txt_path'})\n",
    "cxr_studies.head()"
   ]
  },
  {
   "cell_type": "code",
   "execution_count": 31,
   "metadata": {
    "tags": []
   },
   "outputs": [
    {
     "output_type": "stream",
     "name": "stderr",
     "text": "assigning text...: 100%|██████████| 227835/227835 [01:01<00:00, 3715.38it/s]\n"
    },
    {
     "output_type": "execute_result",
     "data": {
      "text/plain": "        subject_id  study_id                           txt_path  \\\n0         10000032  50414267  files/p10/p10000032/s50414267.txt   \n1         10000032  53189527  files/p10/p10000032/s53189527.txt   \n2         10000032  53911762  files/p10/p10000032/s53911762.txt   \n3         10000032  56699142  files/p10/p10000032/s56699142.txt   \n4         10000764  57375967  files/p10/p10000764/s57375967.txt   \n...            ...       ...                                ...   \n227830    19999442  58708861  files/p19/p19999442/s58708861.txt   \n227831    19999733  57132437  files/p19/p19999733/s57132437.txt   \n227832    19999987  55368167  files/p19/p19999987/s55368167.txt   \n227833    19999987  58621812  files/p19/p19999987/s58621812.txt   \n227834    19999987  58971208  files/p19/p19999987/s58971208.txt   \n\n                                              report_text  \n0                                        FINAL REPORT\\...  \n1                                        FINAL REPORT\\...  \n2                                        FINAL REPORT\\...  \n3                                        FINAL REPORT\\...  \n4                                        FINAL REPORT\\...  \n...                                                   ...  \n227830                                   FINAL REPORT\\...  \n227831                                   FINAL REPORT\\...  \n227832                                   FINAL REPORT\\...  \n227833                                   FINAL REPORT\\...  \n227834                                   FINAL REPORT\\...  \n\n[227835 rows x 4 columns]",
      "text/html": "<div>\n<style scoped>\n    .dataframe tbody tr th:only-of-type {\n        vertical-align: middle;\n    }\n\n    .dataframe tbody tr th {\n        vertical-align: top;\n    }\n\n    .dataframe thead th {\n        text-align: right;\n    }\n</style>\n<table border=\"1\" class=\"dataframe\">\n  <thead>\n    <tr style=\"text-align: right;\">\n      <th></th>\n      <th>subject_id</th>\n      <th>study_id</th>\n      <th>txt_path</th>\n      <th>report_text</th>\n    </tr>\n  </thead>\n  <tbody>\n    <tr>\n      <th>0</th>\n      <td>10000032</td>\n      <td>50414267</td>\n      <td>files/p10/p10000032/s50414267.txt</td>\n      <td>FINAL REPORT\\...</td>\n    </tr>\n    <tr>\n      <th>1</th>\n      <td>10000032</td>\n      <td>53189527</td>\n      <td>files/p10/p10000032/s53189527.txt</td>\n      <td>FINAL REPORT\\...</td>\n    </tr>\n    <tr>\n      <th>2</th>\n      <td>10000032</td>\n      <td>53911762</td>\n      <td>files/p10/p10000032/s53911762.txt</td>\n      <td>FINAL REPORT\\...</td>\n    </tr>\n    <tr>\n      <th>3</th>\n      <td>10000032</td>\n      <td>56699142</td>\n      <td>files/p10/p10000032/s56699142.txt</td>\n      <td>FINAL REPORT\\...</td>\n    </tr>\n    <tr>\n      <th>4</th>\n      <td>10000764</td>\n      <td>57375967</td>\n      <td>files/p10/p10000764/s57375967.txt</td>\n      <td>FINAL REPORT\\...</td>\n    </tr>\n    <tr>\n      <th>...</th>\n      <td>...</td>\n      <td>...</td>\n      <td>...</td>\n      <td>...</td>\n    </tr>\n    <tr>\n      <th>227830</th>\n      <td>19999442</td>\n      <td>58708861</td>\n      <td>files/p19/p19999442/s58708861.txt</td>\n      <td>FINAL REPORT\\...</td>\n    </tr>\n    <tr>\n      <th>227831</th>\n      <td>19999733</td>\n      <td>57132437</td>\n      <td>files/p19/p19999733/s57132437.txt</td>\n      <td>FINAL REPORT\\...</td>\n    </tr>\n    <tr>\n      <th>227832</th>\n      <td>19999987</td>\n      <td>55368167</td>\n      <td>files/p19/p19999987/s55368167.txt</td>\n      <td>FINAL REPORT\\...</td>\n    </tr>\n    <tr>\n      <th>227833</th>\n      <td>19999987</td>\n      <td>58621812</td>\n      <td>files/p19/p19999987/s58621812.txt</td>\n      <td>FINAL REPORT\\...</td>\n    </tr>\n    <tr>\n      <th>227834</th>\n      <td>19999987</td>\n      <td>58971208</td>\n      <td>files/p19/p19999987/s58971208.txt</td>\n      <td>FINAL REPORT\\...</td>\n    </tr>\n  </tbody>\n</table>\n<p>227835 rows × 4 columns</p>\n</div>"
     },
     "metadata": {},
     "execution_count": 31
    }
   ],
   "source": [
    "pathdir = 'mimiccxr_files/'\n",
    "from tqdm import tqdm\n",
    "def get_text(row):\n",
    "    fpath= pathdir+row\n",
    "    with open(fpath, 'r') as file:\n",
    "        text = file.read()\n",
    "    return text\n",
    "tqdm.pandas(desc='assigning text...')\n",
    "cxr_studies['report_text'] = cxr_studies['txt_path'].progress_apply(get_text)\n",
    "cxr_studies"
   ]
  },
  {
   "cell_type": "code",
   "execution_count": 32,
   "metadata": {},
   "outputs": [
    {
     "output_type": "execute_result",
     "data": {
      "text/plain": "        subject_id  study_id                           txt_path  \\\n0         10000032  50414267  files/p10/p10000032/s50414267.txt   \n2         10000032  53189527  files/p10/p10000032/s53189527.txt   \n4         10000032  53911762  files/p10/p10000032/s53911762.txt   \n6         10000032  56699142  files/p10/p10000032/s56699142.txt   \n7         10000764  57375967  files/p10/p10000764/s57375967.txt   \n...            ...       ...                                ...   \n377103    19999442  58708861  files/p19/p19999442/s58708861.txt   \n377104    19999733  57132437  files/p19/p19999733/s57132437.txt   \n377107    19999987  55368167  files/p19/p19999987/s55368167.txt   \n377108    19999987  58621812  files/p19/p19999987/s58621812.txt   \n377109    19999987  58971208  files/p19/p19999987/s58971208.txt   \n\n                                              report_text  split  \n0                                        FINAL REPORT\\...  train  \n2                                        FINAL REPORT\\...  train  \n4                                        FINAL REPORT\\...  train  \n6                                        FINAL REPORT\\...  train  \n7                                        FINAL REPORT\\...  train  \n...                                                   ...    ...  \n377103                                   FINAL REPORT\\...  train  \n377104                                   FINAL REPORT\\...  train  \n377107                                   FINAL REPORT\\...  train  \n377108                                   FINAL REPORT\\...  train  \n377109                                   FINAL REPORT\\...  train  \n\n[227407 rows x 5 columns]",
      "text/html": "<div>\n<style scoped>\n    .dataframe tbody tr th:only-of-type {\n        vertical-align: middle;\n    }\n\n    .dataframe tbody tr th {\n        vertical-align: top;\n    }\n\n    .dataframe thead th {\n        text-align: right;\n    }\n</style>\n<table border=\"1\" class=\"dataframe\">\n  <thead>\n    <tr style=\"text-align: right;\">\n      <th></th>\n      <th>subject_id</th>\n      <th>study_id</th>\n      <th>txt_path</th>\n      <th>report_text</th>\n      <th>split</th>\n    </tr>\n  </thead>\n  <tbody>\n    <tr>\n      <th>0</th>\n      <td>10000032</td>\n      <td>50414267</td>\n      <td>files/p10/p10000032/s50414267.txt</td>\n      <td>FINAL REPORT\\...</td>\n      <td>train</td>\n    </tr>\n    <tr>\n      <th>2</th>\n      <td>10000032</td>\n      <td>53189527</td>\n      <td>files/p10/p10000032/s53189527.txt</td>\n      <td>FINAL REPORT\\...</td>\n      <td>train</td>\n    </tr>\n    <tr>\n      <th>4</th>\n      <td>10000032</td>\n      <td>53911762</td>\n      <td>files/p10/p10000032/s53911762.txt</td>\n      <td>FINAL REPORT\\...</td>\n      <td>train</td>\n    </tr>\n    <tr>\n      <th>6</th>\n      <td>10000032</td>\n      <td>56699142</td>\n      <td>files/p10/p10000032/s56699142.txt</td>\n      <td>FINAL REPORT\\...</td>\n      <td>train</td>\n    </tr>\n    <tr>\n      <th>7</th>\n      <td>10000764</td>\n      <td>57375967</td>\n      <td>files/p10/p10000764/s57375967.txt</td>\n      <td>FINAL REPORT\\...</td>\n      <td>train</td>\n    </tr>\n    <tr>\n      <th>...</th>\n      <td>...</td>\n      <td>...</td>\n      <td>...</td>\n      <td>...</td>\n      <td>...</td>\n    </tr>\n    <tr>\n      <th>377103</th>\n      <td>19999442</td>\n      <td>58708861</td>\n      <td>files/p19/p19999442/s58708861.txt</td>\n      <td>FINAL REPORT\\...</td>\n      <td>train</td>\n    </tr>\n    <tr>\n      <th>377104</th>\n      <td>19999733</td>\n      <td>57132437</td>\n      <td>files/p19/p19999733/s57132437.txt</td>\n      <td>FINAL REPORT\\...</td>\n      <td>train</td>\n    </tr>\n    <tr>\n      <th>377107</th>\n      <td>19999987</td>\n      <td>55368167</td>\n      <td>files/p19/p19999987/s55368167.txt</td>\n      <td>FINAL REPORT\\...</td>\n      <td>train</td>\n    </tr>\n    <tr>\n      <th>377108</th>\n      <td>19999987</td>\n      <td>58621812</td>\n      <td>files/p19/p19999987/s58621812.txt</td>\n      <td>FINAL REPORT\\...</td>\n      <td>train</td>\n    </tr>\n    <tr>\n      <th>377109</th>\n      <td>19999987</td>\n      <td>58971208</td>\n      <td>files/p19/p19999987/s58971208.txt</td>\n      <td>FINAL REPORT\\...</td>\n      <td>train</td>\n    </tr>\n  </tbody>\n</table>\n<p>227407 rows × 5 columns</p>\n</div>"
     },
     "metadata": {},
     "execution_count": 32
    }
   ],
   "source": [
    "cxr_split_df  = pd.read_csv('mimiccxr_jpg_and_labels/mimic-cxr-2.0.0-split.csv.gz',usecols=['study_id','split'])\n",
    "cxr_studies = cxr_studies.merge(cxr_split_df, on = 'study_id')\n",
    "cxr_studies=cxr_studies.drop_duplicates(subset='report_text')\n",
    "cxr_studies"
   ]
  },
  {
   "cell_type": "code",
   "execution_count": 14,
   "metadata": {},
   "outputs": [
    {
     "output_type": "execute_result",
     "data": {
      "text/plain": "      icd_code  icd_version                                         long_title\n9995   A3682             10                      Diphtheritic radiculomyelitis\n10474  A3683             10                          Diphtheritic polyneuritis\n10525  A5052             10                                 Hutchinson's teeth\n10616  A5053             10                                 Hutchinson's triad\n10672  A881              10                                   Epidemic vertigo\n...        ...          ...                                                ...\n86746  Z9912             10  Encounter for respirator [ventilator] dependen...\n86747  Z992              10                       Dependence on renal dialysis\n86748  Z993              10                           Dependence on wheelchair\n86749  Z9981             10                  Dependence on supplemental oxygen\n86750  Z9989             10  Dependence on other enabling machines and devices\n\n[72184 rows x 3 columns]",
      "text/html": "<div>\n<style scoped>\n    .dataframe tbody tr th:only-of-type {\n        vertical-align: middle;\n    }\n\n    .dataframe tbody tr th {\n        vertical-align: top;\n    }\n\n    .dataframe thead th {\n        text-align: right;\n    }\n</style>\n<table border=\"1\" class=\"dataframe\">\n  <thead>\n    <tr style=\"text-align: right;\">\n      <th></th>\n      <th>icd_code</th>\n      <th>icd_version</th>\n      <th>long_title</th>\n    </tr>\n  </thead>\n  <tbody>\n    <tr>\n      <th>9995</th>\n      <td>A3682</td>\n      <td>10</td>\n      <td>Diphtheritic radiculomyelitis</td>\n    </tr>\n    <tr>\n      <th>10474</th>\n      <td>A3683</td>\n      <td>10</td>\n      <td>Diphtheritic polyneuritis</td>\n    </tr>\n    <tr>\n      <th>10525</th>\n      <td>A5052</td>\n      <td>10</td>\n      <td>Hutchinson's teeth</td>\n    </tr>\n    <tr>\n      <th>10616</th>\n      <td>A5053</td>\n      <td>10</td>\n      <td>Hutchinson's triad</td>\n    </tr>\n    <tr>\n      <th>10672</th>\n      <td>A881</td>\n      <td>10</td>\n      <td>Epidemic vertigo</td>\n    </tr>\n    <tr>\n      <th>...</th>\n      <td>...</td>\n      <td>...</td>\n      <td>...</td>\n    </tr>\n    <tr>\n      <th>86746</th>\n      <td>Z9912</td>\n      <td>10</td>\n      <td>Encounter for respirator [ventilator] dependen...</td>\n    </tr>\n    <tr>\n      <th>86747</th>\n      <td>Z992</td>\n      <td>10</td>\n      <td>Dependence on renal dialysis</td>\n    </tr>\n    <tr>\n      <th>86748</th>\n      <td>Z993</td>\n      <td>10</td>\n      <td>Dependence on wheelchair</td>\n    </tr>\n    <tr>\n      <th>86749</th>\n      <td>Z9981</td>\n      <td>10</td>\n      <td>Dependence on supplemental oxygen</td>\n    </tr>\n    <tr>\n      <th>86750</th>\n      <td>Z9989</td>\n      <td>10</td>\n      <td>Dependence on other enabling machines and devices</td>\n    </tr>\n  </tbody>\n</table>\n<p>72184 rows × 3 columns</p>\n</div>"
     },
     "metadata": {},
     "execution_count": 14
    }
   ],
   "source": [
    "mimiciv_diag_key_df = pd.read_csv('mimiciv/d_icd_diagnoses.csv') #getting ICD10 only.\n",
    "mimiciv_diag_key_df = mimiciv_diag_key_df[mimiciv_diag_key_df.icd_version == 10]\n",
    "mimiciv_diag_key_df"
   ]
  },
  {
   "cell_type": "code",
   "execution_count": 18,
   "metadata": {},
   "outputs": [
    {
     "output_type": "execute_result",
     "data": {
      "text/plain": "   subject_id   hadm_id  seq_num icd_code  icd_version  \\\n0    18335503  21596415        7  O99282            10   \n1    10071611  27474298        9  O99282            10   \n2    16855850  24861829       17  O99282            10   \n3    15658622  20448464       14  O99282            10   \n4    13137719  20370714        5  O99282            10   \n\n                                          long_title  \n0  Endocrine, nutritional and metabolic diseases ...  \n1  Endocrine, nutritional and metabolic diseases ...  \n2  Endocrine, nutritional and metabolic diseases ...  \n3  Endocrine, nutritional and metabolic diseases ...  \n4  Endocrine, nutritional and metabolic diseases ...  ",
      "text/html": "<div>\n<style scoped>\n    .dataframe tbody tr th:only-of-type {\n        vertical-align: middle;\n    }\n\n    .dataframe tbody tr th {\n        vertical-align: top;\n    }\n\n    .dataframe thead th {\n        text-align: right;\n    }\n</style>\n<table border=\"1\" class=\"dataframe\">\n  <thead>\n    <tr style=\"text-align: right;\">\n      <th></th>\n      <th>subject_id</th>\n      <th>hadm_id</th>\n      <th>seq_num</th>\n      <th>icd_code</th>\n      <th>icd_version</th>\n      <th>long_title</th>\n    </tr>\n  </thead>\n  <tbody>\n    <tr>\n      <th>0</th>\n      <td>18335503</td>\n      <td>21596415</td>\n      <td>7</td>\n      <td>O99282</td>\n      <td>10</td>\n      <td>Endocrine, nutritional and metabolic diseases ...</td>\n    </tr>\n    <tr>\n      <th>1</th>\n      <td>10071611</td>\n      <td>27474298</td>\n      <td>9</td>\n      <td>O99282</td>\n      <td>10</td>\n      <td>Endocrine, nutritional and metabolic diseases ...</td>\n    </tr>\n    <tr>\n      <th>2</th>\n      <td>16855850</td>\n      <td>24861829</td>\n      <td>17</td>\n      <td>O99282</td>\n      <td>10</td>\n      <td>Endocrine, nutritional and metabolic diseases ...</td>\n    </tr>\n    <tr>\n      <th>3</th>\n      <td>15658622</td>\n      <td>20448464</td>\n      <td>14</td>\n      <td>O99282</td>\n      <td>10</td>\n      <td>Endocrine, nutritional and metabolic diseases ...</td>\n    </tr>\n    <tr>\n      <th>4</th>\n      <td>13137719</td>\n      <td>20370714</td>\n      <td>5</td>\n      <td>O99282</td>\n      <td>10</td>\n      <td>Endocrine, nutritional and metabolic diseases ...</td>\n    </tr>\n  </tbody>\n</table>\n</div>"
     },
     "metadata": {},
     "execution_count": 18
    }
   ],
   "source": [
    "#loading mimic-iv...\n",
    "mimiciv_diag_df = pd.read_csv('mimiciv/diagnoses_icd.csv')\n",
    "mimiciv_diag_df = mimiciv_diag_df[mimiciv_diag_df.icd_version == 10]\n",
    "mimiciv_diag_df = mimiciv_diag_df.merge(mimiciv_diag_key_df.drop('icd_version',axis=1),on='icd_code')\n",
    "mimiciv_diag_df.head()"
   ]
  },
  {
   "cell_type": "code",
   "execution_count": 36,
   "metadata": {},
   "outputs": [
    {
     "output_type": "execute_result",
     "data": {
      "text/plain": "         subject_id   hadm_id  seq_num icd_code  icd_version  \\\n0          18335503  21596415        7  O99282            10   \n1          10071611  27474298        9  O99282            10   \n2          16855850  24861829       17  O99282            10   \n3          15658622  20448464       14  O99282            10   \n4          13137719  20370714        5  O99282            10   \n...             ...       ...      ...      ...          ...   \n2149978    15514518  21042034        2  S59801A           10   \n2149979    13035200  27999585        2  C8241             10   \n2149980    17111939  23664945        1  T6101XA           10   \n2149981    19135001  27980505        2  S92502A           10   \n2149982    19118815  29566765        4  Z13220            10   \n\n                                                long_title  \n0        Endocrine, nutritional and metabolic diseases ...  \n1        Endocrine, nutritional and metabolic diseases ...  \n2        Endocrine, nutritional and metabolic diseases ...  \n3        Endocrine, nutritional and metabolic diseases ...  \n4        Endocrine, nutritional and metabolic diseases ...  \n...                                                    ...  \n2149978  Other specified injuries of right elbow, initi...  \n2149979  Follicular lymphoma grade IIIb, lymph nodes of...  \n2149980  Ciguatera fish poisoning, accidental (unintent...  \n2149981  Displaced unspecified fracture of left lesser ...  \n2149982       Encounter for screening for lipoid disorders  \n\n[2149983 rows x 6 columns]",
      "text/html": "<div>\n<style scoped>\n    .dataframe tbody tr th:only-of-type {\n        vertical-align: middle;\n    }\n\n    .dataframe tbody tr th {\n        vertical-align: top;\n    }\n\n    .dataframe thead th {\n        text-align: right;\n    }\n</style>\n<table border=\"1\" class=\"dataframe\">\n  <thead>\n    <tr style=\"text-align: right;\">\n      <th></th>\n      <th>subject_id</th>\n      <th>hadm_id</th>\n      <th>seq_num</th>\n      <th>icd_code</th>\n      <th>icd_version</th>\n      <th>long_title</th>\n    </tr>\n  </thead>\n  <tbody>\n    <tr>\n      <th>0</th>\n      <td>18335503</td>\n      <td>21596415</td>\n      <td>7</td>\n      <td>O99282</td>\n      <td>10</td>\n      <td>Endocrine, nutritional and metabolic diseases ...</td>\n    </tr>\n    <tr>\n      <th>1</th>\n      <td>10071611</td>\n      <td>27474298</td>\n      <td>9</td>\n      <td>O99282</td>\n      <td>10</td>\n      <td>Endocrine, nutritional and metabolic diseases ...</td>\n    </tr>\n    <tr>\n      <th>2</th>\n      <td>16855850</td>\n      <td>24861829</td>\n      <td>17</td>\n      <td>O99282</td>\n      <td>10</td>\n      <td>Endocrine, nutritional and metabolic diseases ...</td>\n    </tr>\n    <tr>\n      <th>3</th>\n      <td>15658622</td>\n      <td>20448464</td>\n      <td>14</td>\n      <td>O99282</td>\n      <td>10</td>\n      <td>Endocrine, nutritional and metabolic diseases ...</td>\n    </tr>\n    <tr>\n      <th>4</th>\n      <td>13137719</td>\n      <td>20370714</td>\n      <td>5</td>\n      <td>O99282</td>\n      <td>10</td>\n      <td>Endocrine, nutritional and metabolic diseases ...</td>\n    </tr>\n    <tr>\n      <th>...</th>\n      <td>...</td>\n      <td>...</td>\n      <td>...</td>\n      <td>...</td>\n      <td>...</td>\n      <td>...</td>\n    </tr>\n    <tr>\n      <th>2149978</th>\n      <td>15514518</td>\n      <td>21042034</td>\n      <td>2</td>\n      <td>S59801A</td>\n      <td>10</td>\n      <td>Other specified injuries of right elbow, initi...</td>\n    </tr>\n    <tr>\n      <th>2149979</th>\n      <td>13035200</td>\n      <td>27999585</td>\n      <td>2</td>\n      <td>C8241</td>\n      <td>10</td>\n      <td>Follicular lymphoma grade IIIb, lymph nodes of...</td>\n    </tr>\n    <tr>\n      <th>2149980</th>\n      <td>17111939</td>\n      <td>23664945</td>\n      <td>1</td>\n      <td>T6101XA</td>\n      <td>10</td>\n      <td>Ciguatera fish poisoning, accidental (unintent...</td>\n    </tr>\n    <tr>\n      <th>2149981</th>\n      <td>19135001</td>\n      <td>27980505</td>\n      <td>2</td>\n      <td>S92502A</td>\n      <td>10</td>\n      <td>Displaced unspecified fracture of left lesser ...</td>\n    </tr>\n    <tr>\n      <th>2149982</th>\n      <td>19118815</td>\n      <td>29566765</td>\n      <td>4</td>\n      <td>Z13220</td>\n      <td>10</td>\n      <td>Encounter for screening for lipoid disorders</td>\n    </tr>\n  </tbody>\n</table>\n<p>2149983 rows × 6 columns</p>\n</div>"
     },
     "metadata": {},
     "execution_count": 36
    }
   ],
   "source": [
    "mimiciv_diag_df"
   ]
  },
  {
   "cell_type": "markdown",
   "metadata": {},
   "source": [
    "use the subject_id to link IV and CXR,\n",
    "if you want to assign an hadm_id, then join using subject_id + admittime + dischtime"
   ]
  },
  {
   "cell_type": "code",
   "execution_count": 1,
   "metadata": {},
   "outputs": [
    {
     "output_type": "error",
     "ename": "NameError",
     "evalue": "name 'pd' is not defined",
     "traceback": [
      "\u001b[0;31m---------------------------------------------------------------------------\u001b[0m",
      "\u001b[0;31mNameError\u001b[0m                                 Traceback (most recent call last)",
      "\u001b[0;32m<ipython-input-1-f535eec9e780>\u001b[0m in \u001b[0;36m<module>\u001b[0;34m\u001b[0m\n\u001b[0;32m----> 1\u001b[0;31m \u001b[0mpd\u001b[0m\u001b[0;34m.\u001b[0m\u001b[0mread_csv\u001b[0m\u001b[0;34m(\u001b[0m\u001b[0;34m'mimiciv/admissions.csv'\u001b[0m\u001b[0;34m)\u001b[0m\u001b[0;34m\u001b[0m\u001b[0;34m\u001b[0m\u001b[0m\n\u001b[0m",
      "\u001b[0;31mNameError\u001b[0m: name 'pd' is not defined"
     ]
    }
   ],
   "source": [
    "pd.read_csv('mimiciv/admissions.csv')"
   ]
  },
  {
   "cell_type": "code",
   "execution_count": null,
   "metadata": {},
   "outputs": [],
   "source": []
  }
 ]
}