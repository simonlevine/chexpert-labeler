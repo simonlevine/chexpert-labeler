{
 "metadata": {
  "language_info": {
   "codemirror_mode": {
    "name": "ipython",
    "version": 3
   },
   "file_extension": ".py",
   "mimetype": "text/x-python",
   "name": "python",
   "nbconvert_exporter": "python",
   "pygments_lexer": "ipython3",
   "version": "3.8.1-final"
  },
  "orig_nbformat": 2,
  "kernelspec": {
   "name": "python38164bit7f38ed5532dc4b83b9571ffd2a5a03da",
   "display_name": "Python 3.8.1 64-bit"
  }
 },
 "nbformat": 4,
 "nbformat_minor": 2,
 "cells": [
  {
   "cell_type": "markdown",
   "metadata": {},
   "source": [
    "# CheXpert:\n",
    "    Mine reports for mention of device directly."
   ]
  },
  {
   "cell_type": "code",
   "execution_count": 3,
   "metadata": {},
   "outputs": [
    {
     "output_type": "execute_result",
     "data": {
      "text/plain": "   subject_id  study_id                                      dicom_id  \\\n0    10000032  50414267  02aa804e-bde0afdd-112c0b34-7bc16630-4e384014   \n1    10000032  50414267  174413ec-4ec4c1f7-34ea26b7-c5f994f8-79ef1962   \n2    10000032  53189527  2a2277a9-b0ded155-c0de8eb9-c124d10e-82c5caab   \n3    10000032  53189527  e084de3b-be89b11e-20fe3f9f-9c8d8dfe-4cfd202c   \n4    10000032  53911762  68b5c4b1-227d0485-9cc38c3f-7b84ab51-4b472714   \n\n                                                path  \n0  files/p10/p10000032/s50414267/02aa804e-bde0afd...  \n1  files/p10/p10000032/s50414267/174413ec-4ec4c1f...  \n2  files/p10/p10000032/s53189527/2a2277a9-b0ded15...  \n3  files/p10/p10000032/s53189527/e084de3b-be89b11...  \n4  files/p10/p10000032/s53911762/68b5c4b1-227d048...  ",
      "text/html": "<div>\n<style scoped>\n    .dataframe tbody tr th:only-of-type {\n        vertical-align: middle;\n    }\n\n    .dataframe tbody tr th {\n        vertical-align: top;\n    }\n\n    .dataframe thead th {\n        text-align: right;\n    }\n</style>\n<table border=\"1\" class=\"dataframe\">\n  <thead>\n    <tr style=\"text-align: right;\">\n      <th></th>\n      <th>subject_id</th>\n      <th>study_id</th>\n      <th>dicom_id</th>\n      <th>path</th>\n    </tr>\n  </thead>\n  <tbody>\n    <tr>\n      <th>0</th>\n      <td>10000032</td>\n      <td>50414267</td>\n      <td>02aa804e-bde0afdd-112c0b34-7bc16630-4e384014</td>\n      <td>files/p10/p10000032/s50414267/02aa804e-bde0afd...</td>\n    </tr>\n    <tr>\n      <th>1</th>\n      <td>10000032</td>\n      <td>50414267</td>\n      <td>174413ec-4ec4c1f7-34ea26b7-c5f994f8-79ef1962</td>\n      <td>files/p10/p10000032/s50414267/174413ec-4ec4c1f...</td>\n    </tr>\n    <tr>\n      <th>2</th>\n      <td>10000032</td>\n      <td>53189527</td>\n      <td>2a2277a9-b0ded155-c0de8eb9-c124d10e-82c5caab</td>\n      <td>files/p10/p10000032/s53189527/2a2277a9-b0ded15...</td>\n    </tr>\n    <tr>\n      <th>3</th>\n      <td>10000032</td>\n      <td>53189527</td>\n      <td>e084de3b-be89b11e-20fe3f9f-9c8d8dfe-4cfd202c</td>\n      <td>files/p10/p10000032/s53189527/e084de3b-be89b11...</td>\n    </tr>\n    <tr>\n      <th>4</th>\n      <td>10000032</td>\n      <td>53911762</td>\n      <td>68b5c4b1-227d0485-9cc38c3f-7b84ab51-4b472714</td>\n      <td>files/p10/p10000032/s53911762/68b5c4b1-227d048...</td>\n    </tr>\n  </tbody>\n</table>\n</div>"
     },
     "metadata": {},
     "execution_count": 3
    }
   ],
   "source": [
    "import pandas as pd\n",
    "cxr_records = pd.read_csv('mimiccxr_files/cxr-record-list.csv.gz') #images\n",
    "cxr_records.head()"
   ]
  },
  {
   "cell_type": "code",
   "execution_count": 53,
   "metadata": {},
   "outputs": [
    {
     "output_type": "execute_result",
     "data": {
      "text/plain": "   subject_id  study_id                               path\n0    10000032  50414267  files/p10/p10000032/s50414267.txt\n1    10000032  53189527  files/p10/p10000032/s53189527.txt\n2    10000032  53911762  files/p10/p10000032/s53911762.txt\n3    10000032  56699142  files/p10/p10000032/s56699142.txt\n4    10000764  57375967  files/p10/p10000764/s57375967.txt",
      "text/html": "<div>\n<style scoped>\n    .dataframe tbody tr th:only-of-type {\n        vertical-align: middle;\n    }\n\n    .dataframe tbody tr th {\n        vertical-align: top;\n    }\n\n    .dataframe thead th {\n        text-align: right;\n    }\n</style>\n<table border=\"1\" class=\"dataframe\">\n  <thead>\n    <tr style=\"text-align: right;\">\n      <th></th>\n      <th>subject_id</th>\n      <th>study_id</th>\n      <th>path</th>\n    </tr>\n  </thead>\n  <tbody>\n    <tr>\n      <th>0</th>\n      <td>10000032</td>\n      <td>50414267</td>\n      <td>files/p10/p10000032/s50414267.txt</td>\n    </tr>\n    <tr>\n      <th>1</th>\n      <td>10000032</td>\n      <td>53189527</td>\n      <td>files/p10/p10000032/s53189527.txt</td>\n    </tr>\n    <tr>\n      <th>2</th>\n      <td>10000032</td>\n      <td>53911762</td>\n      <td>files/p10/p10000032/s53911762.txt</td>\n    </tr>\n    <tr>\n      <th>3</th>\n      <td>10000032</td>\n      <td>56699142</td>\n      <td>files/p10/p10000032/s56699142.txt</td>\n    </tr>\n    <tr>\n      <th>4</th>\n      <td>10000764</td>\n      <td>57375967</td>\n      <td>files/p10/p10000764/s57375967.txt</td>\n    </tr>\n  </tbody>\n</table>\n</div>"
     },
     "metadata": {},
     "execution_count": 53
    }
   ],
   "source": [
    "cxr_studies = pd.read_csv('mimiccxr_files/cxr-study-list.csv.gz', compression='gzip').rename(columns = {'path':'txt_path'})\n",
    "cxr_studies.head()"
   ]
  },
  {
   "cell_type": "code",
   "execution_count": 37,
   "metadata": {
    "tags": []
   },
   "outputs": [
    {
     "output_type": "stream",
     "name": "stderr",
     "text": "assigning text...: 100%|██████████| 227835/227835 [00:57<00:00, 3938.87it/s]\n"
    },
    {
     "output_type": "execute_result",
     "data": {
      "text/plain": "        subject_id  study_id                               path  \\\n0         10000032  50414267  files/p10/p10000032/s50414267.txt   \n1         10000032  53189527  files/p10/p10000032/s53189527.txt   \n2         10000032  53911762  files/p10/p10000032/s53911762.txt   \n3         10000032  56699142  files/p10/p10000032/s56699142.txt   \n4         10000764  57375967  files/p10/p10000764/s57375967.txt   \n...            ...       ...                                ...   \n227830    19999442  58708861  files/p19/p19999442/s58708861.txt   \n227831    19999733  57132437  files/p19/p19999733/s57132437.txt   \n227832    19999987  55368167  files/p19/p19999987/s55368167.txt   \n227833    19999987  58621812  files/p19/p19999987/s58621812.txt   \n227834    19999987  58971208  files/p19/p19999987/s58971208.txt   \n\n                                                     text  \n0                                        FINAL REPORT\\...  \n1                                        FINAL REPORT\\...  \n2                                        FINAL REPORT\\...  \n3                                        FINAL REPORT\\...  \n4                                        FINAL REPORT\\...  \n...                                                   ...  \n227830                                   FINAL REPORT\\...  \n227831                                   FINAL REPORT\\...  \n227832                                   FINAL REPORT\\...  \n227833                                   FINAL REPORT\\...  \n227834                                   FINAL REPORT\\...  \n\n[227835 rows x 4 columns]",
      "text/html": "<div>\n<style scoped>\n    .dataframe tbody tr th:only-of-type {\n        vertical-align: middle;\n    }\n\n    .dataframe tbody tr th {\n        vertical-align: top;\n    }\n\n    .dataframe thead th {\n        text-align: right;\n    }\n</style>\n<table border=\"1\" class=\"dataframe\">\n  <thead>\n    <tr style=\"text-align: right;\">\n      <th></th>\n      <th>subject_id</th>\n      <th>study_id</th>\n      <th>path</th>\n      <th>text</th>\n    </tr>\n  </thead>\n  <tbody>\n    <tr>\n      <th>0</th>\n      <td>10000032</td>\n      <td>50414267</td>\n      <td>files/p10/p10000032/s50414267.txt</td>\n      <td>FINAL REPORT\\...</td>\n    </tr>\n    <tr>\n      <th>1</th>\n      <td>10000032</td>\n      <td>53189527</td>\n      <td>files/p10/p10000032/s53189527.txt</td>\n      <td>FINAL REPORT\\...</td>\n    </tr>\n    <tr>\n      <th>2</th>\n      <td>10000032</td>\n      <td>53911762</td>\n      <td>files/p10/p10000032/s53911762.txt</td>\n      <td>FINAL REPORT\\...</td>\n    </tr>\n    <tr>\n      <th>3</th>\n      <td>10000032</td>\n      <td>56699142</td>\n      <td>files/p10/p10000032/s56699142.txt</td>\n      <td>FINAL REPORT\\...</td>\n    </tr>\n    <tr>\n      <th>4</th>\n      <td>10000764</td>\n      <td>57375967</td>\n      <td>files/p10/p10000764/s57375967.txt</td>\n      <td>FINAL REPORT\\...</td>\n    </tr>\n    <tr>\n      <th>...</th>\n      <td>...</td>\n      <td>...</td>\n      <td>...</td>\n      <td>...</td>\n    </tr>\n    <tr>\n      <th>227830</th>\n      <td>19999442</td>\n      <td>58708861</td>\n      <td>files/p19/p19999442/s58708861.txt</td>\n      <td>FINAL REPORT\\...</td>\n    </tr>\n    <tr>\n      <th>227831</th>\n      <td>19999733</td>\n      <td>57132437</td>\n      <td>files/p19/p19999733/s57132437.txt</td>\n      <td>FINAL REPORT\\...</td>\n    </tr>\n    <tr>\n      <th>227832</th>\n      <td>19999987</td>\n      <td>55368167</td>\n      <td>files/p19/p19999987/s55368167.txt</td>\n      <td>FINAL REPORT\\...</td>\n    </tr>\n    <tr>\n      <th>227833</th>\n      <td>19999987</td>\n      <td>58621812</td>\n      <td>files/p19/p19999987/s58621812.txt</td>\n      <td>FINAL REPORT\\...</td>\n    </tr>\n    <tr>\n      <th>227834</th>\n      <td>19999987</td>\n      <td>58971208</td>\n      <td>files/p19/p19999987/s58971208.txt</td>\n      <td>FINAL REPORT\\...</td>\n    </tr>\n  </tbody>\n</table>\n<p>227835 rows × 4 columns</p>\n</div>"
     },
     "metadata": {},
     "execution_count": 37
    }
   ],
   "source": [
    "pathdir = 'mimiccxr_files/'\n",
    "from tqdm import tqdm\n",
    "def get_text(row):\n",
    "    fpath= pathdir+row\n",
    "    with open(fpath, 'r') as file:\n",
    "        text = file.read()\n",
    "    return text\n",
    "tqdm.pandas(desc='assigning text...')\n",
    "cxr_studies['text'] = cxr_studies['txt_path'].progress_apply(get_text)\n",
    "cxr_studies"
   ]
  },
  {
   "cell_type": "code",
   "execution_count": 52,
   "metadata": {},
   "outputs": [
    {
     "output_type": "execute_result",
     "data": {
      "text/plain": "        subject_id  study_id                           txt_path  \\\n0         10000032  50414267  files/p10/p10000032/s50414267.txt   \n1         10000032  50414267  files/p10/p10000032/s50414267.txt   \n2         10000032  50414267  files/p10/p10000032/s50414267.txt   \n3         10000032  50414267  files/p10/p10000032/s50414267.txt   \n4         10000032  53189527  files/p10/p10000032/s53189527.txt   \n...            ...       ...                                ...   \n729343    19999733  57132437  files/p19/p19999733/s57132437.txt   \n729344    19999733  57132437  files/p19/p19999733/s57132437.txt   \n729345    19999987  55368167  files/p19/p19999987/s55368167.txt   \n729346    19999987  58621812  files/p19/p19999987/s58621812.txt   \n729347    19999987  58971208  files/p19/p19999987/s58971208.txt   \n\n                                                     text  Support Devices  \\\n0                                        FINAL REPORT\\...              NaN   \n1                                        FINAL REPORT\\...              NaN   \n2                                        FINAL REPORT\\...              NaN   \n3                                        FINAL REPORT\\...              NaN   \n4                                        FINAL REPORT\\...              NaN   \n...                                                   ...              ...   \n729343                                   FINAL REPORT\\...              NaN   \n729344                                   FINAL REPORT\\...              NaN   \n729345                                   FINAL REPORT\\...              NaN   \n729346                                   FINAL REPORT\\...              NaN   \n729347                                   FINAL REPORT\\...              NaN   \n\n                                          dicom_id_x  \\\n0       02aa804e-bde0afdd-112c0b34-7bc16630-4e384014   \n1       02aa804e-bde0afdd-112c0b34-7bc16630-4e384014   \n2       174413ec-4ec4c1f7-34ea26b7-c5f994f8-79ef1962   \n3       174413ec-4ec4c1f7-34ea26b7-c5f994f8-79ef1962   \n4       2a2277a9-b0ded155-c0de8eb9-c124d10e-82c5caab   \n...                                              ...   \n729343  58c403aa-35ff8bd9-73e39f54-8dc9cc5d-e0ec3fa9   \n729344  58c403aa-35ff8bd9-73e39f54-8dc9cc5d-e0ec3fa9   \n729345  58766883-376a15ce-3b323a28-6af950a0-16b793bd   \n729346  7ba273af-3d290f8d-e28d0ab4-484b7a86-7fc12b08   \n729347  1a1fe7e3-cbac5d93-b339aeda-86bb86b5-4f31e82e   \n\n                                          dicom_id_y  split  \n0       02aa804e-bde0afdd-112c0b34-7bc16630-4e384014  train  \n1       174413ec-4ec4c1f7-34ea26b7-c5f994f8-79ef1962  train  \n2       02aa804e-bde0afdd-112c0b34-7bc16630-4e384014  train  \n3       174413ec-4ec4c1f7-34ea26b7-c5f994f8-79ef1962  train  \n4       2a2277a9-b0ded155-c0de8eb9-c124d10e-82c5caab  train  \n...                                              ...    ...  \n729343  428e2c18-5721d8f3-35a05001-36f3d080-9053b83c  train  \n729344  58c403aa-35ff8bd9-73e39f54-8dc9cc5d-e0ec3fa9  train  \n729345  58766883-376a15ce-3b323a28-6af950a0-16b793bd  train  \n729346  7ba273af-3d290f8d-e28d0ab4-484b7a86-7fc12b08  train  \n729347  1a1fe7e3-cbac5d93-b339aeda-86bb86b5-4f31e82e  train  \n\n[729348 rows x 8 columns]",
      "text/html": "<div>\n<style scoped>\n    .dataframe tbody tr th:only-of-type {\n        vertical-align: middle;\n    }\n\n    .dataframe tbody tr th {\n        vertical-align: top;\n    }\n\n    .dataframe thead th {\n        text-align: right;\n    }\n</style>\n<table border=\"1\" class=\"dataframe\">\n  <thead>\n    <tr style=\"text-align: right;\">\n      <th></th>\n      <th>subject_id</th>\n      <th>study_id</th>\n      <th>txt_path</th>\n      <th>text</th>\n      <th>Support Devices</th>\n      <th>dicom_id_x</th>\n      <th>dicom_id_y</th>\n      <th>split</th>\n    </tr>\n  </thead>\n  <tbody>\n    <tr>\n      <th>0</th>\n      <td>10000032</td>\n      <td>50414267</td>\n      <td>files/p10/p10000032/s50414267.txt</td>\n      <td>FINAL REPORT\\...</td>\n      <td>NaN</td>\n      <td>02aa804e-bde0afdd-112c0b34-7bc16630-4e384014</td>\n      <td>02aa804e-bde0afdd-112c0b34-7bc16630-4e384014</td>\n      <td>train</td>\n    </tr>\n    <tr>\n      <th>1</th>\n      <td>10000032</td>\n      <td>50414267</td>\n      <td>files/p10/p10000032/s50414267.txt</td>\n      <td>FINAL REPORT\\...</td>\n      <td>NaN</td>\n      <td>02aa804e-bde0afdd-112c0b34-7bc16630-4e384014</td>\n      <td>174413ec-4ec4c1f7-34ea26b7-c5f994f8-79ef1962</td>\n      <td>train</td>\n    </tr>\n    <tr>\n      <th>2</th>\n      <td>10000032</td>\n      <td>50414267</td>\n      <td>files/p10/p10000032/s50414267.txt</td>\n      <td>FINAL REPORT\\...</td>\n      <td>NaN</td>\n      <td>174413ec-4ec4c1f7-34ea26b7-c5f994f8-79ef1962</td>\n      <td>02aa804e-bde0afdd-112c0b34-7bc16630-4e384014</td>\n      <td>train</td>\n    </tr>\n    <tr>\n      <th>3</th>\n      <td>10000032</td>\n      <td>50414267</td>\n      <td>files/p10/p10000032/s50414267.txt</td>\n      <td>FINAL REPORT\\...</td>\n      <td>NaN</td>\n      <td>174413ec-4ec4c1f7-34ea26b7-c5f994f8-79ef1962</td>\n      <td>174413ec-4ec4c1f7-34ea26b7-c5f994f8-79ef1962</td>\n      <td>train</td>\n    </tr>\n    <tr>\n      <th>4</th>\n      <td>10000032</td>\n      <td>53189527</td>\n      <td>files/p10/p10000032/s53189527.txt</td>\n      <td>FINAL REPORT\\...</td>\n      <td>NaN</td>\n      <td>2a2277a9-b0ded155-c0de8eb9-c124d10e-82c5caab</td>\n      <td>2a2277a9-b0ded155-c0de8eb9-c124d10e-82c5caab</td>\n      <td>train</td>\n    </tr>\n    <tr>\n      <th>...</th>\n      <td>...</td>\n      <td>...</td>\n      <td>...</td>\n      <td>...</td>\n      <td>...</td>\n      <td>...</td>\n      <td>...</td>\n      <td>...</td>\n    </tr>\n    <tr>\n      <th>729343</th>\n      <td>19999733</td>\n      <td>57132437</td>\n      <td>files/p19/p19999733/s57132437.txt</td>\n      <td>FINAL REPORT\\...</td>\n      <td>NaN</td>\n      <td>58c403aa-35ff8bd9-73e39f54-8dc9cc5d-e0ec3fa9</td>\n      <td>428e2c18-5721d8f3-35a05001-36f3d080-9053b83c</td>\n      <td>train</td>\n    </tr>\n    <tr>\n      <th>729344</th>\n      <td>19999733</td>\n      <td>57132437</td>\n      <td>files/p19/p19999733/s57132437.txt</td>\n      <td>FINAL REPORT\\...</td>\n      <td>NaN</td>\n      <td>58c403aa-35ff8bd9-73e39f54-8dc9cc5d-e0ec3fa9</td>\n      <td>58c403aa-35ff8bd9-73e39f54-8dc9cc5d-e0ec3fa9</td>\n      <td>train</td>\n    </tr>\n    <tr>\n      <th>729345</th>\n      <td>19999987</td>\n      <td>55368167</td>\n      <td>files/p19/p19999987/s55368167.txt</td>\n      <td>FINAL REPORT\\...</td>\n      <td>NaN</td>\n      <td>58766883-376a15ce-3b323a28-6af950a0-16b793bd</td>\n      <td>58766883-376a15ce-3b323a28-6af950a0-16b793bd</td>\n      <td>train</td>\n    </tr>\n    <tr>\n      <th>729346</th>\n      <td>19999987</td>\n      <td>58621812</td>\n      <td>files/p19/p19999987/s58621812.txt</td>\n      <td>FINAL REPORT\\...</td>\n      <td>NaN</td>\n      <td>7ba273af-3d290f8d-e28d0ab4-484b7a86-7fc12b08</td>\n      <td>7ba273af-3d290f8d-e28d0ab4-484b7a86-7fc12b08</td>\n      <td>train</td>\n    </tr>\n    <tr>\n      <th>729347</th>\n      <td>19999987</td>\n      <td>58971208</td>\n      <td>files/p19/p19999987/s58971208.txt</td>\n      <td>FINAL REPORT\\...</td>\n      <td>NaN</td>\n      <td>1a1fe7e3-cbac5d93-b339aeda-86bb86b5-4f31e82e</td>\n      <td>1a1fe7e3-cbac5d93-b339aeda-86bb86b5-4f31e82e</td>\n      <td>train</td>\n    </tr>\n  </tbody>\n</table>\n<p>729348 rows × 8 columns</p>\n</div>"
     },
     "metadata": {},
     "execution_count": 52
    }
   ],
   "source": [
    "cxr_studies = cxr_studies.rename(columns = {'path':'txt_path'})\n",
    "cxr_studies"
   ]
  },
  {
   "cell_type": "code",
   "execution_count": 39,
   "metadata": {},
   "outputs": [
    {
     "output_type": "execute_result",
     "data": {
      "text/plain": "        subject_id  study_id                           txt_path  \\\n0         10000032  50414267  files/p10/p10000032/s50414267.txt   \n1         10000032  53189527  files/p10/p10000032/s53189527.txt   \n2         10000032  53911762  files/p10/p10000032/s53911762.txt   \n3         10000032  56699142  files/p10/p10000032/s56699142.txt   \n4         10000764  57375967  files/p10/p10000764/s57375967.txt   \n...            ...       ...                                ...   \n227830    19999442  58708861  files/p19/p19999442/s58708861.txt   \n227831    19999733  57132437  files/p19/p19999733/s57132437.txt   \n227832    19999987  55368167  files/p19/p19999987/s55368167.txt   \n227833    19999987  58621812  files/p19/p19999987/s58621812.txt   \n227834    19999987  58971208  files/p19/p19999987/s58971208.txt   \n\n                                                     text  Support Devices  \n0                                        FINAL REPORT\\...              NaN  \n1                                        FINAL REPORT\\...              NaN  \n2                                        FINAL REPORT\\...              NaN  \n3                                        FINAL REPORT\\...              NaN  \n4                                        FINAL REPORT\\...              NaN  \n...                                                   ...              ...  \n227830                                   FINAL REPORT\\...              NaN  \n227831                                   FINAL REPORT\\...              NaN  \n227832                                   FINAL REPORT\\...              NaN  \n227833                                   FINAL REPORT\\...              NaN  \n227834                                   FINAL REPORT\\...              NaN  \n\n[227835 rows x 5 columns]",
      "text/html": "<div>\n<style scoped>\n    .dataframe tbody tr th:only-of-type {\n        vertical-align: middle;\n    }\n\n    .dataframe tbody tr th {\n        vertical-align: top;\n    }\n\n    .dataframe thead th {\n        text-align: right;\n    }\n</style>\n<table border=\"1\" class=\"dataframe\">\n  <thead>\n    <tr style=\"text-align: right;\">\n      <th></th>\n      <th>subject_id</th>\n      <th>study_id</th>\n      <th>txt_path</th>\n      <th>text</th>\n      <th>Support Devices</th>\n    </tr>\n  </thead>\n  <tbody>\n    <tr>\n      <th>0</th>\n      <td>10000032</td>\n      <td>50414267</td>\n      <td>files/p10/p10000032/s50414267.txt</td>\n      <td>FINAL REPORT\\...</td>\n      <td>NaN</td>\n    </tr>\n    <tr>\n      <th>1</th>\n      <td>10000032</td>\n      <td>53189527</td>\n      <td>files/p10/p10000032/s53189527.txt</td>\n      <td>FINAL REPORT\\...</td>\n      <td>NaN</td>\n    </tr>\n    <tr>\n      <th>2</th>\n      <td>10000032</td>\n      <td>53911762</td>\n      <td>files/p10/p10000032/s53911762.txt</td>\n      <td>FINAL REPORT\\...</td>\n      <td>NaN</td>\n    </tr>\n    <tr>\n      <th>3</th>\n      <td>10000032</td>\n      <td>56699142</td>\n      <td>files/p10/p10000032/s56699142.txt</td>\n      <td>FINAL REPORT\\...</td>\n      <td>NaN</td>\n    </tr>\n    <tr>\n      <th>4</th>\n      <td>10000764</td>\n      <td>57375967</td>\n      <td>files/p10/p10000764/s57375967.txt</td>\n      <td>FINAL REPORT\\...</td>\n      <td>NaN</td>\n    </tr>\n    <tr>\n      <th>...</th>\n      <td>...</td>\n      <td>...</td>\n      <td>...</td>\n      <td>...</td>\n      <td>...</td>\n    </tr>\n    <tr>\n      <th>227830</th>\n      <td>19999442</td>\n      <td>58708861</td>\n      <td>files/p19/p19999442/s58708861.txt</td>\n      <td>FINAL REPORT\\...</td>\n      <td>NaN</td>\n    </tr>\n    <tr>\n      <th>227831</th>\n      <td>19999733</td>\n      <td>57132437</td>\n      <td>files/p19/p19999733/s57132437.txt</td>\n      <td>FINAL REPORT\\...</td>\n      <td>NaN</td>\n    </tr>\n    <tr>\n      <th>227832</th>\n      <td>19999987</td>\n      <td>55368167</td>\n      <td>files/p19/p19999987/s55368167.txt</td>\n      <td>FINAL REPORT\\...</td>\n      <td>NaN</td>\n    </tr>\n    <tr>\n      <th>227833</th>\n      <td>19999987</td>\n      <td>58621812</td>\n      <td>files/p19/p19999987/s58621812.txt</td>\n      <td>FINAL REPORT\\...</td>\n      <td>NaN</td>\n    </tr>\n    <tr>\n      <th>227834</th>\n      <td>19999987</td>\n      <td>58971208</td>\n      <td>files/p19/p19999987/s58971208.txt</td>\n      <td>FINAL REPORT\\...</td>\n      <td>NaN</td>\n    </tr>\n  </tbody>\n</table>\n<p>227835 rows × 5 columns</p>\n</div>"
     },
     "metadata": {},
     "execution_count": 39
    }
   ],
   "source": [
    "chexpert_df = pd.read_csv('mimiccxr_jpg_and_labels/mimic-cxr-2.0.0-chexpert.csv',usecols=['subject_id','study_id','Support Devices'])\n",
    "cxr_studies['Support Devices'] = chexpert_df['Support Devices']\n",
    "cxr_studies"
   ]
  },
  {
   "cell_type": "code",
   "execution_count": 49,
   "metadata": {},
   "outputs": [
    {
     "output_type": "execute_result",
     "data": {
      "text/plain": "                                            dicom_id  study_id  subject_id  \\\n0       02aa804e-bde0afdd-112c0b34-7bc16630-4e384014  50414267    10000032   \n1       174413ec-4ec4c1f7-34ea26b7-c5f994f8-79ef1962  50414267    10000032   \n2       2a2277a9-b0ded155-c0de8eb9-c124d10e-82c5caab  53189527    10000032   \n3       e084de3b-be89b11e-20fe3f9f-9c8d8dfe-4cfd202c  53189527    10000032   \n4       68b5c4b1-227d0485-9cc38c3f-7b84ab51-4b472714  53911762    10000032   \n...                                              ...       ...         ...   \n377105  428e2c18-5721d8f3-35a05001-36f3d080-9053b83c  57132437    19999733   \n377106  58c403aa-35ff8bd9-73e39f54-8dc9cc5d-e0ec3fa9  57132437    19999733   \n377107  58766883-376a15ce-3b323a28-6af950a0-16b793bd  55368167    19999987   \n377108  7ba273af-3d290f8d-e28d0ab4-484b7a86-7fc12b08  58621812    19999987   \n377109  1a1fe7e3-cbac5d93-b339aeda-86bb86b5-4f31e82e  58971208    19999987   \n\n        split  \n0       train  \n1       train  \n2       train  \n3       train  \n4       train  \n...       ...  \n377105  train  \n377106  train  \n377107  train  \n377108  train  \n377109  train  \n\n[377110 rows x 4 columns]",
      "text/html": "<div>\n<style scoped>\n    .dataframe tbody tr th:only-of-type {\n        vertical-align: middle;\n    }\n\n    .dataframe tbody tr th {\n        vertical-align: top;\n    }\n\n    .dataframe thead th {\n        text-align: right;\n    }\n</style>\n<table border=\"1\" class=\"dataframe\">\n  <thead>\n    <tr style=\"text-align: right;\">\n      <th></th>\n      <th>dicom_id</th>\n      <th>study_id</th>\n      <th>subject_id</th>\n      <th>split</th>\n    </tr>\n  </thead>\n  <tbody>\n    <tr>\n      <th>0</th>\n      <td>02aa804e-bde0afdd-112c0b34-7bc16630-4e384014</td>\n      <td>50414267</td>\n      <td>10000032</td>\n      <td>train</td>\n    </tr>\n    <tr>\n      <th>1</th>\n      <td>174413ec-4ec4c1f7-34ea26b7-c5f994f8-79ef1962</td>\n      <td>50414267</td>\n      <td>10000032</td>\n      <td>train</td>\n    </tr>\n    <tr>\n      <th>2</th>\n      <td>2a2277a9-b0ded155-c0de8eb9-c124d10e-82c5caab</td>\n      <td>53189527</td>\n      <td>10000032</td>\n      <td>train</td>\n    </tr>\n    <tr>\n      <th>3</th>\n      <td>e084de3b-be89b11e-20fe3f9f-9c8d8dfe-4cfd202c</td>\n      <td>53189527</td>\n      <td>10000032</td>\n      <td>train</td>\n    </tr>\n    <tr>\n      <th>4</th>\n      <td>68b5c4b1-227d0485-9cc38c3f-7b84ab51-4b472714</td>\n      <td>53911762</td>\n      <td>10000032</td>\n      <td>train</td>\n    </tr>\n    <tr>\n      <th>...</th>\n      <td>...</td>\n      <td>...</td>\n      <td>...</td>\n      <td>...</td>\n    </tr>\n    <tr>\n      <th>377105</th>\n      <td>428e2c18-5721d8f3-35a05001-36f3d080-9053b83c</td>\n      <td>57132437</td>\n      <td>19999733</td>\n      <td>train</td>\n    </tr>\n    <tr>\n      <th>377106</th>\n      <td>58c403aa-35ff8bd9-73e39f54-8dc9cc5d-e0ec3fa9</td>\n      <td>57132437</td>\n      <td>19999733</td>\n      <td>train</td>\n    </tr>\n    <tr>\n      <th>377107</th>\n      <td>58766883-376a15ce-3b323a28-6af950a0-16b793bd</td>\n      <td>55368167</td>\n      <td>19999987</td>\n      <td>train</td>\n    </tr>\n    <tr>\n      <th>377108</th>\n      <td>7ba273af-3d290f8d-e28d0ab4-484b7a86-7fc12b08</td>\n      <td>58621812</td>\n      <td>19999987</td>\n      <td>train</td>\n    </tr>\n    <tr>\n      <th>377109</th>\n      <td>1a1fe7e3-cbac5d93-b339aeda-86bb86b5-4f31e82e</td>\n      <td>58971208</td>\n      <td>19999987</td>\n      <td>train</td>\n    </tr>\n  </tbody>\n</table>\n<p>377110 rows × 4 columns</p>\n</div>"
     },
     "metadata": {},
     "execution_count": 49
    }
   ],
   "source": [
    "cxr_split_df  = pd.read_csv('mimiccxr_jpg_and_labels/mimic-cxr-2.0.0-split.csv.gz')\n",
    "cxr_split_df\n",
    "# cxr_studies = cxr_studies.merge(cxr_metadata_df, on = 'study_id')"
   ]
  },
  {
   "cell_type": "code",
   "execution_count": 51,
   "metadata": {},
   "outputs": [
    {
     "output_type": "execute_result",
     "data": {
      "text/plain": "        subject_id  study_id                           txt_path  \\\n0         10000032  50414267  files/p10/p10000032/s50414267.txt   \n1         10000032  50414267  files/p10/p10000032/s50414267.txt   \n2         10000032  50414267  files/p10/p10000032/s50414267.txt   \n3         10000032  50414267  files/p10/p10000032/s50414267.txt   \n4         10000032  53189527  files/p10/p10000032/s53189527.txt   \n...            ...       ...                                ...   \n729343    19999733  57132437  files/p19/p19999733/s57132437.txt   \n729344    19999733  57132437  files/p19/p19999733/s57132437.txt   \n729345    19999987  55368167  files/p19/p19999987/s55368167.txt   \n729346    19999987  58621812  files/p19/p19999987/s58621812.txt   \n729347    19999987  58971208  files/p19/p19999987/s58971208.txt   \n\n                                                     text  Support Devices  \\\n0                                        FINAL REPORT\\...              NaN   \n1                                        FINAL REPORT\\...              NaN   \n2                                        FINAL REPORT\\...              NaN   \n3                                        FINAL REPORT\\...              NaN   \n4                                        FINAL REPORT\\...              NaN   \n...                                                   ...              ...   \n729343                                   FINAL REPORT\\...              NaN   \n729344                                   FINAL REPORT\\...              NaN   \n729345                                   FINAL REPORT\\...              NaN   \n729346                                   FINAL REPORT\\...              NaN   \n729347                                   FINAL REPORT\\...              NaN   \n\n                                          dicom_id_x  \\\n0       02aa804e-bde0afdd-112c0b34-7bc16630-4e384014   \n1       02aa804e-bde0afdd-112c0b34-7bc16630-4e384014   \n2       174413ec-4ec4c1f7-34ea26b7-c5f994f8-79ef1962   \n3       174413ec-4ec4c1f7-34ea26b7-c5f994f8-79ef1962   \n4       2a2277a9-b0ded155-c0de8eb9-c124d10e-82c5caab   \n...                                              ...   \n729343  58c403aa-35ff8bd9-73e39f54-8dc9cc5d-e0ec3fa9   \n729344  58c403aa-35ff8bd9-73e39f54-8dc9cc5d-e0ec3fa9   \n729345  58766883-376a15ce-3b323a28-6af950a0-16b793bd   \n729346  7ba273af-3d290f8d-e28d0ab4-484b7a86-7fc12b08   \n729347  1a1fe7e3-cbac5d93-b339aeda-86bb86b5-4f31e82e   \n\n                                          dicom_id_y  split  \n0       02aa804e-bde0afdd-112c0b34-7bc16630-4e384014  train  \n1       174413ec-4ec4c1f7-34ea26b7-c5f994f8-79ef1962  train  \n2       02aa804e-bde0afdd-112c0b34-7bc16630-4e384014  train  \n3       174413ec-4ec4c1f7-34ea26b7-c5f994f8-79ef1962  train  \n4       2a2277a9-b0ded155-c0de8eb9-c124d10e-82c5caab  train  \n...                                              ...    ...  \n729343  428e2c18-5721d8f3-35a05001-36f3d080-9053b83c  train  \n729344  58c403aa-35ff8bd9-73e39f54-8dc9cc5d-e0ec3fa9  train  \n729345  58766883-376a15ce-3b323a28-6af950a0-16b793bd  train  \n729346  7ba273af-3d290f8d-e28d0ab4-484b7a86-7fc12b08  train  \n729347  1a1fe7e3-cbac5d93-b339aeda-86bb86b5-4f31e82e  train  \n\n[729348 rows x 8 columns]",
      "text/html": "<div>\n<style scoped>\n    .dataframe tbody tr th:only-of-type {\n        vertical-align: middle;\n    }\n\n    .dataframe tbody tr th {\n        vertical-align: top;\n    }\n\n    .dataframe thead th {\n        text-align: right;\n    }\n</style>\n<table border=\"1\" class=\"dataframe\">\n  <thead>\n    <tr style=\"text-align: right;\">\n      <th></th>\n      <th>subject_id</th>\n      <th>study_id</th>\n      <th>txt_path</th>\n      <th>text</th>\n      <th>Support Devices</th>\n      <th>dicom_id_x</th>\n      <th>dicom_id_y</th>\n      <th>split</th>\n    </tr>\n  </thead>\n  <tbody>\n    <tr>\n      <th>0</th>\n      <td>10000032</td>\n      <td>50414267</td>\n      <td>files/p10/p10000032/s50414267.txt</td>\n      <td>FINAL REPORT\\...</td>\n      <td>NaN</td>\n      <td>02aa804e-bde0afdd-112c0b34-7bc16630-4e384014</td>\n      <td>02aa804e-bde0afdd-112c0b34-7bc16630-4e384014</td>\n      <td>train</td>\n    </tr>\n    <tr>\n      <th>1</th>\n      <td>10000032</td>\n      <td>50414267</td>\n      <td>files/p10/p10000032/s50414267.txt</td>\n      <td>FINAL REPORT\\...</td>\n      <td>NaN</td>\n      <td>02aa804e-bde0afdd-112c0b34-7bc16630-4e384014</td>\n      <td>174413ec-4ec4c1f7-34ea26b7-c5f994f8-79ef1962</td>\n      <td>train</td>\n    </tr>\n    <tr>\n      <th>2</th>\n      <td>10000032</td>\n      <td>50414267</td>\n      <td>files/p10/p10000032/s50414267.txt</td>\n      <td>FINAL REPORT\\...</td>\n      <td>NaN</td>\n      <td>174413ec-4ec4c1f7-34ea26b7-c5f994f8-79ef1962</td>\n      <td>02aa804e-bde0afdd-112c0b34-7bc16630-4e384014</td>\n      <td>train</td>\n    </tr>\n    <tr>\n      <th>3</th>\n      <td>10000032</td>\n      <td>50414267</td>\n      <td>files/p10/p10000032/s50414267.txt</td>\n      <td>FINAL REPORT\\...</td>\n      <td>NaN</td>\n      <td>174413ec-4ec4c1f7-34ea26b7-c5f994f8-79ef1962</td>\n      <td>174413ec-4ec4c1f7-34ea26b7-c5f994f8-79ef1962</td>\n      <td>train</td>\n    </tr>\n    <tr>\n      <th>4</th>\n      <td>10000032</td>\n      <td>53189527</td>\n      <td>files/p10/p10000032/s53189527.txt</td>\n      <td>FINAL REPORT\\...</td>\n      <td>NaN</td>\n      <td>2a2277a9-b0ded155-c0de8eb9-c124d10e-82c5caab</td>\n      <td>2a2277a9-b0ded155-c0de8eb9-c124d10e-82c5caab</td>\n      <td>train</td>\n    </tr>\n    <tr>\n      <th>...</th>\n      <td>...</td>\n      <td>...</td>\n      <td>...</td>\n      <td>...</td>\n      <td>...</td>\n      <td>...</td>\n      <td>...</td>\n      <td>...</td>\n    </tr>\n    <tr>\n      <th>729343</th>\n      <td>19999733</td>\n      <td>57132437</td>\n      <td>files/p19/p19999733/s57132437.txt</td>\n      <td>FINAL REPORT\\...</td>\n      <td>NaN</td>\n      <td>58c403aa-35ff8bd9-73e39f54-8dc9cc5d-e0ec3fa9</td>\n      <td>428e2c18-5721d8f3-35a05001-36f3d080-9053b83c</td>\n      <td>train</td>\n    </tr>\n    <tr>\n      <th>729344</th>\n      <td>19999733</td>\n      <td>57132437</td>\n      <td>files/p19/p19999733/s57132437.txt</td>\n      <td>FINAL REPORT\\...</td>\n      <td>NaN</td>\n      <td>58c403aa-35ff8bd9-73e39f54-8dc9cc5d-e0ec3fa9</td>\n      <td>58c403aa-35ff8bd9-73e39f54-8dc9cc5d-e0ec3fa9</td>\n      <td>train</td>\n    </tr>\n    <tr>\n      <th>729345</th>\n      <td>19999987</td>\n      <td>55368167</td>\n      <td>files/p19/p19999987/s55368167.txt</td>\n      <td>FINAL REPORT\\...</td>\n      <td>NaN</td>\n      <td>58766883-376a15ce-3b323a28-6af950a0-16b793bd</td>\n      <td>58766883-376a15ce-3b323a28-6af950a0-16b793bd</td>\n      <td>train</td>\n    </tr>\n    <tr>\n      <th>729346</th>\n      <td>19999987</td>\n      <td>58621812</td>\n      <td>files/p19/p19999987/s58621812.txt</td>\n      <td>FINAL REPORT\\...</td>\n      <td>NaN</td>\n      <td>7ba273af-3d290f8d-e28d0ab4-484b7a86-7fc12b08</td>\n      <td>7ba273af-3d290f8d-e28d0ab4-484b7a86-7fc12b08</td>\n      <td>train</td>\n    </tr>\n    <tr>\n      <th>729347</th>\n      <td>19999987</td>\n      <td>58971208</td>\n      <td>files/p19/p19999987/s58971208.txt</td>\n      <td>FINAL REPORT\\...</td>\n      <td>NaN</td>\n      <td>1a1fe7e3-cbac5d93-b339aeda-86bb86b5-4f31e82e</td>\n      <td>1a1fe7e3-cbac5d93-b339aeda-86bb86b5-4f31e82e</td>\n      <td>train</td>\n    </tr>\n  </tbody>\n</table>\n<p>729348 rows × 8 columns</p>\n</div>"
     },
     "metadata": {},
     "execution_count": 51
    }
   ],
   "source": [
    "cxr_studies = cxr_studies.merge(cxr_split_df, on = 'study_id')\n",
    "cxr_studies"
   ]
  },
  {
   "cell_type": "code",
   "execution_count": null,
   "metadata": {},
   "outputs": [],
   "source": []
  }
 ]
}